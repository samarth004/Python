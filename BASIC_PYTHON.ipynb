{
 "cells": [
  {
   "cell_type": "code",
   "execution_count": 6,
   "id": "c4006671",
   "metadata": {},
   "outputs": [
    {
     "name": "stdout",
     "output_type": "stream",
     "text": [
      "hello world\n"
     ]
    }
   ],
   "source": [
    "print(\"hello world\")"
   ]
  },
  {
   "cell_type": "code",
   "execution_count": 2,
   "id": "fd74c692",
   "metadata": {},
   "outputs": [
    {
     "ename": "NameError",
     "evalue": "name 'Print' is not defined",
     "output_type": "error",
     "traceback": [
      "\u001b[1;31m---------------------------------------------------------------------------\u001b[0m",
      "\u001b[1;31mNameError\u001b[0m                                 Traceback (most recent call last)",
      "Cell \u001b[1;32mIn[2], line 1\u001b[0m\n\u001b[1;32m----> 1\u001b[0m \u001b[43mPrint\u001b[49m(\u001b[38;5;124m\"\u001b[39m\u001b[38;5;124mhello world\u001b[39m\u001b[38;5;124m\"\u001b[39m)\n",
      "\u001b[1;31mNameError\u001b[0m: name 'Print' is not defined"
     ]
    }
   ],
   "source": [
    "Print(\"hello world\")"
   ]
  },
  {
   "cell_type": "code",
   "execution_count": 3,
   "id": "9daa6022",
   "metadata": {},
   "outputs": [
    {
     "ename": "SyntaxError",
     "evalue": "invalid syntax. Perhaps you forgot a comma? (2497053111.py, line 1)",
     "output_type": "error",
     "traceback": [
      "\u001b[1;36m  Cell \u001b[1;32mIn[3], line 1\u001b[1;36m\u001b[0m\n\u001b[1;33m    print(hello world)\u001b[0m\n\u001b[1;37m          ^\u001b[0m\n\u001b[1;31mSyntaxError\u001b[0m\u001b[1;31m:\u001b[0m invalid syntax. Perhaps you forgot a comma?\n"
     ]
    }
   ],
   "source": [
    "print(hello world)"
   ]
  },
  {
   "cell_type": "code",
   "execution_count": 5,
   "id": "99b5abfc",
   "metadata": {},
   "outputs": [
    {
     "name": "stdout",
     "output_type": "stream",
     "text": [
      "10.7\n"
     ]
    }
   ],
   "source": [
    "print(10.7)"
   ]
  },
  {
   "cell_type": "code",
   "execution_count": 7,
   "id": "24ac7a4f",
   "metadata": {},
   "outputs": [],
   "source": [
    "###PRINThelloworld\n"
   ]
  },
  {
   "cell_type": "code",
   "execution_count": 8,
   "id": "6c2d5128",
   "metadata": {},
   "outputs": [],
   "source": [
    "#### hsgdhdhd"
   ]
  },
  {
   "cell_type": "markdown",
   "id": "3186fdcf",
   "metadata": {},
   "source": [
    "### hehdj"
   ]
  },
  {
   "cell_type": "markdown",
   "id": "f77d1114",
   "metadata": {},
   "source": [
    "## dhgddsahbd"
   ]
  },
  {
   "cell_type": "markdown",
   "id": "d925362c",
   "metadata": {},
   "source": [
    "# djsfn"
   ]
  },
  {
   "cell_type": "markdown",
   "id": "f0a43d73",
   "metadata": {},
   "source": [
    "## variable\n"
   ]
  },
  {
   "cell_type": "code",
   "execution_count": 9,
   "id": "14b4a804",
   "metadata": {},
   "outputs": [
    {
     "ename": "SyntaxError",
     "evalue": "invalid syntax (4245356431.py, line 2)",
     "output_type": "error",
     "traceback": [
      "\u001b[1;36m  Cell \u001b[1;32mIn[9], line 2\u001b[1;36m\u001b[0m\n\u001b[1;33m    first name = \" samarth\"\u001b[0m\n\u001b[1;37m          ^\u001b[0m\n\u001b[1;31mSyntaxError\u001b[0m\u001b[1;31m:\u001b[0m invalid syntax\n"
     ]
    }
   ],
   "source": [
    "### 1.variable should not have space\n",
    "first name = \" samarth\""
   ]
  },
  {
   "cell_type": "code",
   "execution_count": 13,
   "id": "fe42cb49",
   "metadata": {},
   "outputs": [
    {
     "data": {
      "text/plain": [
       "'jdfjwkdf'"
      ]
     },
     "execution_count": 13,
     "metadata": {},
     "output_type": "execute_result"
    }
   ],
   "source": [
    "### variable name should start wit a-z A-Z or __\n",
    "\n",
    "_name = \"samarth\"\n",
    "name = \"jdfjwkdf\"\n",
    "name"
   ]
  },
  {
   "cell_type": "code",
   "execution_count": 12,
   "id": "7071bee1",
   "metadata": {},
   "outputs": [
    {
     "data": {
      "text/plain": [
       "'samarth'"
      ]
     },
     "execution_count": 12,
     "metadata": {},
     "output_type": "execute_result"
    }
   ],
   "source": [
    "Firstname = \"samarth\"\n",
    "Firstname"
   ]
  },
  {
   "cell_type": "code",
   "execution_count": 14,
   "id": "51317ca3",
   "metadata": {},
   "outputs": [],
   "source": [
    "### only allow speci char i s_\n",
    "_name = \"jfdjd\""
   ]
  },
  {
   "cell_type": "markdown",
   "id": "a74a3eb1",
   "metadata": {},
   "source": [
    "#datatype"
   ]
  },
  {
   "cell_type": "markdown",
   "id": "de766c54",
   "metadata": {},
   "source": [
    "# Data Types\n"
   ]
  },
  {
   "cell_type": "code",
   "execution_count": 15,
   "id": "9ce9229b",
   "metadata": {},
   "outputs": [
    {
     "data": {
      "text/plain": [
       "float"
      ]
     },
     "execution_count": 15,
     "metadata": {},
     "output_type": "execute_result"
    }
   ],
   "source": [
    "x = 47.4\n",
    "type(x)\n"
   ]
  },
  {
   "cell_type": "code",
   "execution_count": 16,
   "id": "aaddc19e",
   "metadata": {},
   "outputs": [
    {
     "data": {
      "text/plain": [
       "int"
      ]
     },
     "execution_count": 16,
     "metadata": {},
     "output_type": "execute_result"
    }
   ],
   "source": [
    "y = 10\n",
    "type(y)"
   ]
  },
  {
   "cell_type": "code",
   "execution_count": 18,
   "id": "b3d9175f",
   "metadata": {},
   "outputs": [
    {
     "data": {
      "text/plain": [
       "str"
      ]
     },
     "execution_count": 18,
     "metadata": {},
     "output_type": "execute_result"
    }
   ],
   "source": [
    "z = \"true\"\n",
    "type(z)"
   ]
  },
  {
   "cell_type": "code",
   "execution_count": 19,
   "id": "000fb051",
   "metadata": {},
   "outputs": [
    {
     "ename": "NameError",
     "evalue": "name 'true' is not defined",
     "output_type": "error",
     "traceback": [
      "\u001b[1;31m---------------------------------------------------------------------------\u001b[0m",
      "\u001b[1;31mNameError\u001b[0m                                 Traceback (most recent call last)",
      "Cell \u001b[1;32mIn[19], line 1\u001b[0m\n\u001b[1;32m----> 1\u001b[0m t \u001b[38;5;241m=\u001b[39m \u001b[43mtrue\u001b[49m\n\u001b[0;32m      2\u001b[0m \u001b[38;5;28mtype\u001b[39m(t)\n",
      "\u001b[1;31mNameError\u001b[0m: name 'true' is not defined"
     ]
    }
   ],
   "source": [
    "t = true\n",
    "type(t)"
   ]
  },
  {
   "cell_type": "code",
   "execution_count": 20,
   "id": "5b006b29",
   "metadata": {},
   "outputs": [
    {
     "data": {
      "text/plain": [
       "45"
      ]
     },
     "execution_count": 20,
     "metadata": {},
     "output_type": "execute_result"
    }
   ],
   "source": [
    "r=45\n",
    "type(r)\n",
    "r"
   ]
  },
  {
   "cell_type": "code",
   "execution_count": 21,
   "id": "45623960",
   "metadata": {},
   "outputs": [
    {
     "data": {
      "text/plain": [
       "(int, 46)"
      ]
     },
     "execution_count": 21,
     "metadata": {},
     "output_type": "execute_result"
    }
   ],
   "source": [
    "r=46\n",
    "type(r),r"
   ]
  },
  {
   "cell_type": "code",
   "execution_count": 22,
   "id": "469adef3",
   "metadata": {},
   "outputs": [
    {
     "name": "stdout",
     "output_type": "stream",
     "text": [
      "<class 'int'>\n"
     ]
    }
   ],
   "source": [
    "w=35\n",
    "print(type(w))"
   ]
  },
  {
   "cell_type": "code",
   "execution_count": 24,
   "id": "a180b9b8",
   "metadata": {},
   "outputs": [
    {
     "data": {
      "text/plain": [
       "('samrth', str)"
      ]
     },
     "execution_count": 24,
     "metadata": {},
     "output_type": "execute_result"
    }
   ],
   "source": [
    "name = \"samrth\"\n",
    "name,type(name)"
   ]
  },
  {
   "cell_type": "code",
   "execution_count": 25,
   "id": "1be9a1d7",
   "metadata": {},
   "outputs": [
    {
     "data": {
      "text/plain": [
       "(22, int)"
      ]
     },
     "execution_count": 25,
     "metadata": {},
     "output_type": "execute_result"
    }
   ],
   "source": [
    "age=22\n",
    "age,type(age)"
   ]
  },
  {
   "cell_type": "code",
   "execution_count": null,
   "id": "fe803c2d",
   "metadata": {},
   "outputs": [],
   "source": []
  }
 ],
 "metadata": {
  "kernelspec": {
   "display_name": "Python 3 (ipykernel)",
   "language": "python",
   "name": "python3"
  },
  "language_info": {
   "codemirror_mode": {
    "name": "ipython",
    "version": 3
   },
   "file_extension": ".py",
   "mimetype": "text/x-python",
   "name": "python",
   "nbconvert_exporter": "python",
   "pygments_lexer": "ipython3",
   "version": "3.10.9"
  }
 },
 "nbformat": 4,
 "nbformat_minor": 5
}
